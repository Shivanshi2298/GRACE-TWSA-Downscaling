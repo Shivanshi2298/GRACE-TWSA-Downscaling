{
 "cells": [
  {
   "cell_type": "code",
   "execution_count": 9,
   "id": "8b41cfed",
   "metadata": {},
   "outputs": [],
   "source": [
    "import os\n",
    "import numpy as np\n",
    "from osgeo import gdal"
   ]
  },
  {
   "cell_type": "code",
   "execution_count": null,
   "id": "ee31db4f",
   "metadata": {},
   "outputs": [],
   "source": [
    "# defining the dataset\n",
    "os.getcwd() \n",
    "folder1 = (r'F:\\final thesis\\thesis_data\\thesis_data\\shivanshi\\single_pixel_data\\surface_water_1_degree\\sw_1_degree_oc\\anomaly')"
   ]
  },
  {
   "cell_type": "code",
   "execution_count": null,
   "id": "b11ab6d4",
   "metadata": {},
   "outputs": [],
   "source": [
    "# Define a list of years to process\n",
    "years = ['2004', '2005', '2006', '2007', '2008', '2009']"
   ]
  },
  {
   "cell_type": "code",
   "execution_count": null,
   "id": "3536a635",
   "metadata": {},
   "outputs": [],
   "source": [
    "# getting all the tiff files in all the folders. For that generating a loop that joins folder1 and year_folder\n",
    "for year_folder in years:\n",
    "    folder = os.path.join(folder1, year_folder)\n",
    "    tif_files = [f for f in os.listdir(folder) if f.endswith('.tif')]\n",
    "    print(year_folder, tif_files)"
   ]
  },
  {
   "cell_type": "code",
   "execution_count": null,
   "id": "03fd509c",
   "metadata": {},
   "outputs": [],
   "source": [
    "# printing the all the tif files to check its coming correct or not\n",
    "print(tif_files[0])"
   ]
  },
  {
   "cell_type": "code",
   "execution_count": null,
   "id": "03588fe3",
   "metadata": {},
   "outputs": [],
   "source": [
    "# Create an empty array to store the data from all the TIFF files\n",
    "data = []"
   ]
  },
  {
   "cell_type": "code",
   "execution_count": null,
   "id": "44c89173",
   "metadata": {},
   "outputs": [],
   "source": [
    "# Loop through each year subfolder and collect all the matching TIFF files\n",
    "for year in years:\n",
    "    folder = os.path.join(folder1, year)\n",
    "    \n",
    "    #list of all tif files in the folder for converting all of them into array for mean calculation\n",
    "    tif_files = [f for f in os.listdir(folder) if f.endswith('.tif')]\n",
    "    \n",
    "    # Loop through each TIFF file in the folder and read its data\n",
    "    for tif_file in tif_files:\n",
    "        tiff_path = os.path.join(folder, tif_file)\n",
    "        tiff_dataset = gdal.Open(tiff_path)\n",
    "        tiff_band = tiff_dataset.GetRasterBand(1)\n",
    "        tiff_data = tiff_band.ReadAsArray()\n",
    "        data.append(tiff_data)"
   ]
  },
  {
   "cell_type": "code",
   "execution_count": null,
   "id": "e4958b8f",
   "metadata": {},
   "outputs": [],
   "source": [
    "# Print the shape of each array in the data list\n",
    "for tiff_data in data:\n",
    "    print(data)"
   ]
  },
  {
   "cell_type": "code",
   "execution_count": null,
   "id": "04fac189",
   "metadata": {},
   "outputs": [],
   "source": [
    "# Calculate the long term average\n",
    "long_term_average = np.mean(data, axis=0)"
   ]
  },
  {
   "cell_type": "code",
   "execution_count": null,
   "id": "9bba8da3",
   "metadata": {},
   "outputs": [],
   "source": [
    "print(long_term_average)"
   ]
  },
  {
   "cell_type": "code",
   "execution_count": null,
   "id": "4e25c1f7",
   "metadata": {},
   "outputs": [],
   "source": [
    "# Define the output file path\n",
    "output_file = r\"F:\\final thesis\\thesis_data\\thesis_data\\shivanshi\\single_pixel_data\\surface_water_1_degree\\sw_1_degree_oc\\anomaly\\baseline_mean.tif\"\n",
    "\n",
    "# Define the geotransform and projection of the output file\n",
    "geotransform = tiff_dataset.GetGeoTransform()\n",
    "projection = tiff_dataset.GetProjection()\n",
    "\n",
    "# Create a new TIFF file with the same dimensions as the input data\n",
    "driver = gdal.GetDriverByName(\"GTiff\")\n",
    "rows, cols = tiff_data.shape\n",
    "out_dataset = driver.Create(output_file, cols, rows, 1, gdal.GDT_Float32)\n",
    "\n",
    "# Write the long term average to the output file\n",
    "out_band = out_dataset.GetRasterBand(1)\n",
    "out_band.WriteArray(long_term_average)\n",
    "\n",
    "# Set the geotransform and projection of the output file\n",
    "out_dataset.SetGeoTransform(geotransform)\n",
    "out_dataset.SetProjection(projection)\n",
    "\n",
    "# Close the output file\n",
    "out_dataset = None"
   ]
  },
  {
   "cell_type": "code",
   "execution_count": 3,
   "id": "e0551190",
   "metadata": {},
   "outputs": [
    {
     "name": "stdout",
     "output_type": "stream",
     "text": [
      "<osgeo.gdal.Dataset; proxy of <Swig Object of type 'GDALDatasetShadow *' at 0x000001858686D480> >\n"
     ]
    }
   ],
   "source": [
    "ds1 = gdal.Open(r'F:\\final thesis\\thesis_data\\thesis_data\\shivanshi\\single_pixel_data\\surface_water_0.25_deree\\0.25_sw_oc\\0.25_sw_converted_oc\\anomaly\\baseline_mean.tif')\n",
    "print(ds1)"
   ]
  },
  {
   "cell_type": "code",
   "execution_count": 4,
   "id": "dfcb938c",
   "metadata": {},
   "outputs": [],
   "source": [
    "array1 = ds1.GetRasterBand(1).ReadAsArray()\n",
    "# print(array1)"
   ]
  },
  {
   "cell_type": "code",
   "execution_count": 5,
   "id": "5da1eab6",
   "metadata": {},
   "outputs": [
    {
     "name": "stdout",
     "output_type": "stream",
     "text": [
      "4 4 1\n"
     ]
    }
   ],
   "source": [
    "# Dimensions\n",
    "cols = ds1.RasterXSize\n",
    "rows = ds1.RasterYSize\n",
    "bands = ds1.RasterCount\n",
    "print(rows, cols, bands)"
   ]
  },
  {
   "cell_type": "code",
   "execution_count": 6,
   "id": "40cba3e6",
   "metadata": {},
   "outputs": [],
   "source": [
    "ds2 = gdal.Open(r'F:\\final thesis\\thesis_data\\thesis_data\\shivanshi\\single_pixel_data\\surface_water_0.25_deree\\0.25_sw_oc\\0.25_sw_converted_oc\\December_sw_2002.tif')"
   ]
  },
  {
   "cell_type": "code",
   "execution_count": 7,
   "id": "168f074b",
   "metadata": {},
   "outputs": [],
   "source": [
    "array2 = ds2.GetRasterBand(1).ReadAsArray()\n",
    "# print(array2)"
   ]
  },
  {
   "cell_type": "code",
   "execution_count": 8,
   "id": "daa6dec9",
   "metadata": {},
   "outputs": [
    {
     "name": "stdout",
     "output_type": "stream",
     "text": [
      "[[  0.         0.         0.         0.      ]\n",
      " [  0.         0.        32.044205 107.032776]\n",
      " [  0.         0.         0.         0.      ]\n",
      " [  0.         0.         0.         0.      ]]\n"
     ]
    }
   ],
   "source": [
    "anomaly = array2 - array1\n",
    "print(anomaly)"
   ]
  },
  {
   "cell_type": "code",
   "execution_count": null,
   "id": "649db7e6",
   "metadata": {},
   "outputs": [],
   "source": [
    "driver = gdal.GetDriverByName(\"GTiff\")\n",
    "out_ds = driver.Create(r\"F:\\final thesis\\thesis_data\\thesis_data\\shivanshi\\single_pixel_data\\surface_water_1_degree\\sw_1_degree_oc\\sw_1_degree_oc_converted\\anomaly_converted\\December_sw_2002.tif\", cols, rows, 1, gdal.GDT_Float32)\n",
    "out_ds.SetProjection(ds1.GetProjection())\n",
    "out_ds.SetGeoTransform(ds1.GetGeoTransform())\n",
    "band = out_ds.GetRasterBand(1)\n",
    "band.WriteArray(anomaly)\n",
    "band.FlushCache()\n",
    "band.ComputeStatistics(False)\n",
    "band=None           #important,otherwise will return blank values\n",
    "out_ds=None"
   ]
  },
  {
   "cell_type": "code",
   "execution_count": null,
   "id": "6a7bd3fd",
   "metadata": {},
   "outputs": [],
   "source": []
  }
 ],
 "metadata": {
  "kernelspec": {
   "display_name": "Python 3 (ipykernel)",
   "language": "python",
   "name": "python3"
  },
  "language_info": {
   "codemirror_mode": {
    "name": "ipython",
    "version": 3
   },
   "file_extension": ".py",
   "mimetype": "text/x-python",
   "name": "python",
   "nbconvert_exporter": "python",
   "pygments_lexer": "ipython3",
   "version": "3.9.16"
  }
 },
 "nbformat": 4,
 "nbformat_minor": 5
}
